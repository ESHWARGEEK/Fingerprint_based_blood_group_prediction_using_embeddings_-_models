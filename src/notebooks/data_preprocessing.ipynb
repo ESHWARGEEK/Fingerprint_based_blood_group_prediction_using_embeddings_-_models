{
 "cells": [
  {
   "cell_type": "code",
   "execution_count": null,
   "id": "e9b8d4bb",
   "metadata": {
    "vscode": {
     "languageId": "plaintext"
    }
   },
   "outputs": [],
   "source": [
    "#spliting the database into train,test,val - code\n",
    "import os\n",
    "import shutil\n",
    "import random\n",
    "\n",
    "def train_val_test_split(input_dir=\"dataset\", output_dir=\"dataset_split\",\n",
    "                         train_ratio=0.7, val_ratio=0.15, seed=42):\n",
    "    random.seed(seed)\n",
    "\n",
    "    classes = os.listdir(input_dir)\n",
    "    for cls in classes:\n",
    "        cls_path = os.path.join(input_dir, cls)\n",
    "        if not os.path.isdir(cls_path):\n",
    "            continue\n",
    "\n",
    "        images = os.listdir(cls_path)\n",
    "        random.shuffle(images)\n",
    "\n",
    "        n_total = len(images)\n",
    "        n_train = int(train_ratio * n_total)\n",
    "        n_val = int(val_ratio * n_total)\n",
    "\n",
    "        train_files = images[:n_train]\n",
    "        val_files   = images[n_train:n_train+n_val]\n",
    "        test_files  = images[n_train+n_val:]\n",
    "\n",
    "        for split, split_files in zip([\"train\",\"val\",\"test\"],\n",
    "                                      [train_files, val_files, test_files]):\n",
    "            split_dir = os.path.join(output_dir, split, cls)\n",
    "            os.makedirs(split_dir, exist_ok=True)\n",
    "            for f in split_files:\n",
    "                shutil.copy(os.path.join(cls_path, f),\n",
    "                            os.path.join(split_dir, f))\n",
    "\n",
    "        print(f\"{cls}: {n_total} → Train={len(train_files)}, Val={len(val_files)}, Test={len(test_files)}\")\n",
    "\n",
    "# Run split once\n",
    "train_val_test_split(\"/kaggle/input/fingerprint-based-blood-group-detection/dataset\", \"dataset_split\")\n"
   ]
  }
 ],
 "metadata": {
  "language_info": {
   "name": "python"
  }
 },
 "nbformat": 4,
 "nbformat_minor": 5
}
