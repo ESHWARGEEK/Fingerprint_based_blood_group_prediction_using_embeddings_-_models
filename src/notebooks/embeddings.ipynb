{
 "cells": [
  {
   "cell_type": "code",
   "execution_count": null,
   "id": "4db07eee",
   "metadata": {
    "vscode": {
     "languageId": "plaintext"
    }
   },
   "outputs": [],
   "source": [
    "!pip install transformers pillow torch pandas\n",
    "#installing required libraries\n",
    "!pip install onnxruntime oracledb pillow numpy\n",
    "\n",
    "import os\n",
    "import torch\n",
    "import pandas as pd\n",
    "from PIL import Image\n",
    "from transformers import CLIPProcessor, CLIPModel\n",
    "\n",
    "# Load CLIP\n",
    "model_id = \"/kaggle/input/openaiclip-vit-base-patch32/pytorch/default/1\"\n",
    "model = CLIPModel.from_pretrained(model_id)\n",
    "processor = CLIPProcessor.from_pretrained(model_id)\n",
    "\n",
    "# Path to dataset\n",
    "dataset_path = \"/kaggle/input/fingerprint-based-blood-group-detection/dataset\"\n",
    "\n",
    "data = []\n",
    "labels = []\n",
    "\n",
    "# Loop over dataset folders (A+, A-, AB+, ...)\n",
    "for label in os.listdir(dataset_path):\n",
    "    class_dir = os.path.join(dataset_path, label)\n",
    "    if not os.path.isdir(class_dir):\n",
    "        continue\n",
    "    \n",
    "    for fname in os.listdir(class_dir):\n",
    "        fpath = os.path.join(class_dir, fname)\n",
    "        try:\n",
    "            img = Image.open(fpath).convert(\"RGB\")\n",
    "            inputs = processor(images=img, return_tensors=\"pt\")\n",
    "\n",
    "            with torch.no_grad():\n",
    "                embedding = model.get_image_features(**inputs)\n",
    "            \n",
    "            embedding = embedding.squeeze().tolist()\n",
    "            \n",
    "            data.append(embedding)\n",
    "            labels.append(label)\n",
    "\n",
    "        except Exception as e:\n",
    "            print(\"Error processing:\", fpath, e)\n",
    "\n",
    "# Save to CSV (label + embedding as list)\n",
    "df = pd.DataFrame({\"label\": labels, \"embedding\": data})\n",
    "df.to_csv(\"fingerprint_embeddings.csv\", index=False)\n",
    "\n",
    "print(\"✅ Saved embeddings to fingerprint_embeddings.csv\")\n"
   ]
  }
 ],
 "metadata": {
  "language_info": {
   "name": "python"
  }
 },
 "nbformat": 4,
 "nbformat_minor": 5
}
